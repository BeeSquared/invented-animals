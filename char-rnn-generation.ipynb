{
 "cells": [
  {
   "cell_type": "markdown",
   "metadata": {},
   "source": [
    "![](https://i.imgur.com/eBRPvWB.png)\n",
    "\n",
    "# Practical PyTorch: Generating Shakespeare with a Character-Level RNN\n",
    "\n",
    "[In the RNN classification tutorial](https://github.com/spro/practical-pytorch/blob/master/char-rnn-classification/char-rnn-classification.ipynb) we used a RNN to classify text one character at a time. This time we'll generate text one character at a time.\n",
    "\n",
    "```\n",
    "> python generate.py -n 500\n",
    "\n",
    "PAOLTREDN:\n",
    "Let, yil exter shis owrach we so sain, fleas,\n",
    "Be wast the shall deas, puty sonse my sheete.\n",
    "\n",
    "BAUFIO:\n",
    "Sirh carrow out with the knonuot my comest sifard queences\n",
    "O all a man unterd.\n",
    "\n",
    "PROMENSJO:\n",
    "Ay, I to Heron, I sack, againous; bepear, Butch,\n",
    "An as shalp will of that seal think.\n",
    "\n",
    "NUKINUS:\n",
    "And house it to thee word off hee:\n",
    "And thou charrota the son hange of that shall denthand\n",
    "For the say hor you are of I folles muth me?\n",
    "```\n",
    "\n",
    "This one might make you question the series title &mdash; \"is that really practical?\" However, these sorts of generative models form the basis of machine translation, image captioning, question answering and more. See the [Sequence to Sequence Translation tutorial](https://github.com/spro/practical-pytorch/blob/master/seq2seq-translation/seq2seq-translation.ipynb) for more on that topic."
   ]
  },
  {
   "cell_type": "markdown",
   "metadata": {},
   "source": [
    "# Recommended Reading\n",
    "\n",
    "I assume you have at least installed PyTorch, know Python, and understand Tensors:\n",
    "\n",
    "* http://pytorch.org/ For installation instructions\n",
    "* [Deep Learning with PyTorch: A 60-minute Blitz](https://github.com/pytorch/tutorials/blob/master/Deep%20Learning%20with%20PyTorch.ipynb) to get started with PyTorch in general\n",
    "* [jcjohnson's PyTorch examples](https://github.com/jcjohnson/pytorch-examples) for an in depth overview\n",
    "* [Introduction to PyTorch for former Torchies](https://github.com/pytorch/tutorials/blob/master/Introduction%20to%20PyTorch%20for%20former%20Torchies.ipynb) if you are former Lua Torch user\n",
    "\n",
    "It would also be useful to know about RNNs and how they work:\n",
    "\n",
    "* [The Unreasonable Effectiveness of Recurrent Neural Networks](http://karpathy.github.io/2015/05/21/rnn-effectiveness/) shows a bunch of real life examples\n",
    "* [Understanding LSTM Networks](http://colah.github.io/posts/2015-08-Understanding-LSTMs/) is about LSTMs specifically but also informative about RNNs in general\n",
    "\n",
    "Also see these related tutorials from the series:\n",
    "\n",
    "* [Classifying Names with a Character-Level RNN](https://github.com/spro/practical-pytorch/blob/master/char-rnn-classification/char-rnn-classification.ipynb) uses an RNN for classification\n",
    "* [Generating Names with a Conditional Character-Level RNN](https://github.com/spro/practical-pytorch/blob/master/conditional-char-rnn/conditional-char-rnn.ipynb) builds on this model to add a category as input"
   ]
  },
  {
   "cell_type": "markdown",
   "metadata": {},
   "source": [
    "# Prepare data\n",
    "\n",
    "The file we are using is a plain text file. We turn any potential unicode characters into plain ASCII by using the `unidecode` package (which you can install via `pip` or `conda`)."
   ]
  },
  {
   "cell_type": "code",
   "execution_count": 25,
   "metadata": {},
   "outputs": [
    {
     "name": "stdout",
     "output_type": "stream",
     "text": [
      "file_len = 6535942\n"
     ]
    }
   ],
   "source": [
    "import unidecode\n",
    "import string\n",
    "import random\n",
    "import re\n",
    "\n",
    "all_characters = string.printable\n",
    "n_characters = len(all_characters)\n",
    "\n",
    "file = unidecode.unidecode(open('../../training STLs/all_files.txt').read())\n",
    "file_len = len(file)\n",
    "print('file_len =', file_len)"
   ]
  },
  {
   "cell_type": "markdown",
   "metadata": {},
   "source": [
    "To make inputs out of this big string of data, we will be splitting it into chunks."
   ]
  },
  {
   "cell_type": "code",
   "execution_count": 26,
   "metadata": {},
   "outputs": [
    {
     "name": "stdout",
     "output_type": "stream",
     "text": [
      "0000e+000\n",
      "      vertex -2.217268e+001 -4.390702e+001  2.000000e+000\n",
      "    endloop\n",
      "  endfacet\n",
      "  facet normal  0.000000e+000  -0.000000e+000  1.000000e+000\n",
      "    outer loop\n",
      "      vertex -3.235336e+001 -9.055\n"
     ]
    }
   ],
   "source": [
    "chunk_len = 200\n",
    "\n",
    "def random_chunk():\n",
    "    start_index = random.randint(0, file_len - chunk_len)\n",
    "    end_index = start_index + chunk_len + 1\n",
    "    return file[start_index:end_index]\n",
    "\n",
    "print(random_chunk())"
   ]
  },
  {
   "cell_type": "markdown",
   "metadata": {},
   "source": [
    "# Build the Model\n",
    "\n",
    "This model will take as input the character for step $t_{-1}$ and is expected to output the next character $t$. There are three layers - one linear layer that encodes the input character into an internal state, one GRU layer (which may itself have multiple layers) that operates on that internal state and a hidden state, and a decoder layer that outputs the probability distribution."
   ]
  },
  {
   "cell_type": "code",
   "execution_count": 27,
   "metadata": {},
   "outputs": [],
   "source": [
    "import torch\n",
    "import torch.nn as nn\n",
    "from torch.autograd import Variable\n",
    "\n",
    "class RNN(nn.Module):\n",
    "    def __init__(self, input_size, hidden_size, output_size, n_layers=1):\n",
    "        super(RNN, self).__init__()\n",
    "        self.input_size = input_size\n",
    "        self.hidden_size = hidden_size\n",
    "        self.output_size = output_size\n",
    "        self.n_layers = n_layers\n",
    "        \n",
    "        self.encoder = nn.Embedding(input_size, hidden_size)\n",
    "        self.gru = nn.GRU(hidden_size, hidden_size, n_layers)\n",
    "        self.decoder = nn.Linear(hidden_size, output_size)\n",
    "    \n",
    "    def forward(self, input, hidden):\n",
    "        input = self.encoder(input.view(1, -1))\n",
    "        output, hidden = self.gru(input.view(1, 1, -1), hidden)\n",
    "        output = self.decoder(output.view(1, -1))\n",
    "        return output, hidden\n",
    "\n",
    "    def init_hidden(self):\n",
    "        return Variable(torch.zeros(self.n_layers, 1, self.hidden_size))"
   ]
  },
  {
   "cell_type": "markdown",
   "metadata": {},
   "source": [
    "# Inputs and Targets"
   ]
  },
  {
   "cell_type": "markdown",
   "metadata": {},
   "source": [
    "Each chunk will be turned into a tensor, specifically a `LongTensor` (used for integer values), by looping through the characters of the string and looking up the index of each character in `all_characters`."
   ]
  },
  {
   "cell_type": "code",
   "execution_count": 28,
   "metadata": {},
   "outputs": [
    {
     "name": "stdout",
     "output_type": "stream",
     "text": [
      "tensor([10, 11, 12, 39, 40, 41])\n"
     ]
    }
   ],
   "source": [
    "# Turn string into list of longs\n",
    "def char_tensor(string):\n",
    "    tensor = torch.zeros(len(string)).long()\n",
    "    for c in range(len(string)):\n",
    "        tensor[c] = all_characters.index(string[c])\n",
    "    return Variable(tensor)\n",
    "\n",
    "print(char_tensor('abcDEF'))"
   ]
  },
  {
   "cell_type": "markdown",
   "metadata": {},
   "source": [
    "Finally we can assemble a pair of input and target tensors for training, from a random chunk. The input will be all characters *up to the last*, and the target will be all characters *from the first*. So if our chunk is \"abc\" the input will correspond to \"ab\" while the target is \"bc\"."
   ]
  },
  {
   "cell_type": "code",
   "execution_count": 29,
   "metadata": {},
   "outputs": [],
   "source": [
    "def random_training_set():    \n",
    "    chunk = random_chunk()\n",
    "    inp = char_tensor(chunk[:-1])\n",
    "    target = char_tensor(chunk[1:])\n",
    "    return inp, target"
   ]
  },
  {
   "cell_type": "markdown",
   "metadata": {},
   "source": [
    "# Evaluating\n",
    "\n",
    "To evaluate the network we will feed one character at a time, use the outputs of the network as a probability distribution for the next character, and repeat. To start generation we pass a priming string to start building up the hidden state, from which we then generate one character at a time."
   ]
  },
  {
   "cell_type": "code",
   "execution_count": 30,
   "metadata": {},
   "outputs": [],
   "source": [
    "def evaluate(prime_str='A', predict_len=100, temperature=0.8):\n",
    "    hidden = decoder.init_hidden()\n",
    "    prime_input = char_tensor(prime_str)\n",
    "    predicted = prime_str\n",
    "\n",
    "    # Use priming string to \"build up\" hidden state\n",
    "    for p in range(len(prime_str) - 1):\n",
    "        _, hidden = decoder(prime_input[p], hidden)\n",
    "    inp = prime_input[-1]\n",
    "    \n",
    "    for p in range(predict_len):\n",
    "        output, hidden = decoder(inp, hidden)\n",
    "        \n",
    "        # Sample from the network as a multinomial distribution\n",
    "        output_dist = output.data.view(-1).div(temperature).exp()\n",
    "        top_i = torch.multinomial(output_dist, 1)[0]\n",
    "        \n",
    "        # Add predicted character to string and use as next input\n",
    "        predicted_char = all_characters[top_i]\n",
    "        predicted += predicted_char\n",
    "        inp = char_tensor(predicted_char)\n",
    "\n",
    "    return predicted"
   ]
  },
  {
   "cell_type": "markdown",
   "metadata": {},
   "source": [
    "# Training"
   ]
  },
  {
   "cell_type": "markdown",
   "metadata": {},
   "source": [
    "A helper to print the amount of time passed:"
   ]
  },
  {
   "cell_type": "code",
   "execution_count": 31,
   "metadata": {},
   "outputs": [],
   "source": [
    "import time, math\n",
    "\n",
    "def time_since(since):\n",
    "    s = time.time() - since\n",
    "    m = math.floor(s / 60)\n",
    "    s -= m * 60\n",
    "    return '%dm %ds' % (m, s)"
   ]
  },
  {
   "cell_type": "markdown",
   "metadata": {},
   "source": [
    "The main training function"
   ]
  },
  {
   "cell_type": "code",
   "execution_count": 32,
   "metadata": {},
   "outputs": [],
   "source": [
    "def train(inp, target):\n",
    "    hidden = decoder.init_hidden()\n",
    "    decoder.zero_grad()\n",
    "    loss = 0\n",
    "\n",
    "    for c in range(chunk_len):\n",
    "        output, hidden = decoder(inp[c], hidden)\n",
    "        loss += criterion(output, target[c].unsqueeze(0))\n",
    "\n",
    "    loss.backward()\n",
    "    decoder_optimizer.step()\n",
    "\n",
    "    return loss.data.item() / chunk_len"
   ]
  },
  {
   "cell_type": "markdown",
   "metadata": {},
   "source": [
    "Then we define the training parameters, instantiate the model, and start training:"
   ]
  },
  {
   "cell_type": "code",
   "execution_count": 33,
   "metadata": {
    "scrolled": false
   },
   "outputs": [
    {
     "name": "stdout",
     "output_type": "stream",
     "text": [
      "[0m 27s (100 5%) 0.8209]\n",
      "Wh$47e+001 -5.813772e+001  2.00000e+000\n",
      "     vertex  4.47544e+001 -4.75376e+000  0.000000e+000\n",
      "      v \n",
      "\n",
      "[0m 48s (200 10%) 0.3956]\n",
      "WhMD$&rtex  4.02491525e+001 -1.995677e-001\n",
      "    outer loop\n",
      "      vertex  .240159e+001  2.000000e+000\n",
      "   \n",
      "\n",
      "[1m 5s (300 15%) 0.5036]\n",
      "Wh<1 -4.816379e+001  0.000000e+000  0.000000e+000\n",
      "      vertex  5.054400e+000\n",
      "      vertex -4.724167e+ \n",
      "\n",
      "[1m 21s (400 20%) 0.5071]\n",
      "Whcuter loop\n",
      "    endloop\n",
      "  endfacet\n",
      "  facet normal  0.000000e+000  0.000000e+000  0.000000e+000  0.000 \n",
      "\n",
      "[1m 38s (500 25%) 0.5781]\n",
      "Whuter loop\n",
      "      vertex -3.368389e+001 -2.005262e+001  0.000000e+000\n",
      "      vertex  3.869315e+000  1.0 \n",
      "\n",
      "[1m 54s (600 30%) 0.4460]\n",
      "Wh0000  1.000000e+000\n",
      "    endloop\n",
      "  endfacet\n",
      "  facet normal  2.000000e+000\n",
      "    outer loop\n",
      "      vertex \n",
      "\n",
      "[2m 10s (700 35%) 0.3834]\n",
      "Whl  0.000000e+000  0.000000e+000  0.000000e+000  0.000000e+000  1.000000e+000  1.000000e+000\n",
      "    oute \n",
      "\n",
      "[2m 26s (800 40%) 0.4562]\n",
      "Wh<t\n",
      "  facet normal  0.000000e+000  0.000000e+000  1.000000e+000  0.000000e+000  0.000000e+000  0.0000 \n",
      "\n",
      "[2m 43s (900 45%) 0.4265]\n",
      "Whx  2.071188e+001  2.000000e+000\n",
      "    endloop\n",
      "  endfacet\n",
      "  facet normal  8.717782e+000  0.000000e+000  \n",
      "\n",
      "[3m 1s (1000 50%) 0.6926]\n",
      "Whk.070919e+001  2.000000e+000\n",
      "      vertex -3.599951e+001 -1.959777e+001  2.000000e+000\n",
      "    endloop\n",
      "  \n",
      "\n",
      "[3m 19s (1100 55%) 0.5886]\n",
      "Wh-1.3877742e+000  2.000000e+000\n",
      "      vertex  1.5688324e+001 -3.968815e+001  2.430000e+000\n",
      "      vert \n",
      "\n",
      "[3m 35s (1200 60%) 0.4072]\n",
      "Wh4778562e+001  2.000000e+000\n",
      "    endloop\n",
      "  endfacet\n",
      "  facet normal  0.000000e+000  0.000000e+000  -0. \n",
      "\n",
      "[3m 51s (1300 65%) 0.6337]\n",
      "Wh,.000000e+000\n",
      "    endloop\n",
      "  endfacet\n",
      "  facet normal  0.000000e+000  0.000000e+000  0.000000e+000  0. \n",
      "\n",
      "[4m 7s (1400 70%) 0.4760]\n",
      "WhH.477737e+001  0.000000e+000\n",
      "      vertex -5.285282e+000  1.265010e+001  2.000000e+000\n",
      "      vertex  \n",
      "\n",
      "[4m 23s (1500 75%) 0.3955]\n",
      "Wh~.646421e+001  1.000000e+000\n",
      "      vertex -4.686148e+001 -1.268812e+001  0.000000e+000\n",
      "    endloop\n",
      "  \n",
      "\n",
      "[4m 40s (1600 80%) 0.4797]\n",
      "Wh\n",
      "      vertex -8.395529e+001 -5.219747e+001  0.000000e+000\n",
      "    endloop\n",
      "  endfacet\n",
      "  facet normal  -0 \n",
      "\n",
      "[4m 59s (1700 85%) 0.4905]\n",
      "Whrtex  5.116505e+001 -1.766564e+001  0.000000e+000\n",
      "    endloop\n",
      "  endfacet\n",
      "  facet normal   -0.000000e \n",
      "\n",
      "[5m 17s (1800 90%) 0.5799]\n",
      "Whx -4.748612e+001  0.000000e+000\n",
      "    endloop\n",
      "  endfacet\n",
      "  facet normal  0.000000e+000  1.000000e+000\n",
      " \n",
      "\n",
      "[5m 35s (1900 95%) 0.5987]\n",
      "Whndloop\n",
      "  endfacet\n",
      "  facet normal  0.000000e+000  0.000000e+000 -9.99999e-001  2.000000e+000  0.00000 \n",
      "\n",
      "[5m 52s (2000 100%) 0.4031]\n",
      "Wh+000\n",
      "      vertex  2.759776e+001 -3.967734e+000  1.637650e+001  2.300000e+000\n",
      "      vertex -3.124435 \n",
      "\n"
     ]
    }
   ],
   "source": [
    "n_epochs = 2000\n",
    "print_every = 100\n",
    "plot_every = 10\n",
    "hidden_size = 100\n",
    "n_layers = 1\n",
    "lr = 0.005\n",
    "\n",
    "decoder = RNN(n_characters, hidden_size, n_characters, n_layers)\n",
    "decoder_optimizer = torch.optim.Adam(decoder.parameters(), lr=lr)\n",
    "criterion = nn.CrossEntropyLoss()\n",
    "\n",
    "start = time.time()\n",
    "all_losses = []\n",
    "loss_avg = 0\n",
    "\n",
    "for epoch in range(1, n_epochs + 1):\n",
    "    loss = train(*random_training_set())       \n",
    "    loss_avg += loss\n",
    "\n",
    "    if epoch % print_every == 0:\n",
    "        print('[%s (%d %d%%) %.4f]' % (time_since(start), epoch, epoch / n_epochs * 100, loss))\n",
    "        print(evaluate('Wh', 100), '\\n')\n",
    "\n",
    "    if epoch % plot_every == 0:\n",
    "        all_losses.append(loss_avg / plot_every)\n",
    "        loss_avg = 0"
   ]
  },
  {
   "cell_type": "markdown",
   "metadata": {},
   "source": [
    "# Plotting the Training Losses\n",
    "\n",
    "Plotting the historical loss from all_losses shows the network learning:"
   ]
  },
  {
   "cell_type": "code",
   "execution_count": 34,
   "metadata": {},
   "outputs": [
    {
     "data": {
      "text/plain": [
       "[<matplotlib.lines.Line2D at 0x125e073c8>]"
      ]
     },
     "execution_count": 34,
     "metadata": {},
     "output_type": "execute_result"
    },
    {
     "data": {
      "image/png": "[encoded data removed]",
      "text/plain": [
       "<Figure size 432x288 with 1 Axes>"
      ]
     },
     "metadata": {
      "needs_background": "light"
     },
     "output_type": "display_data"
    }
   ],
   "source": [
    "import matplotlib.pyplot as plt\n",
    "import matplotlib.ticker as ticker\n",
    "%matplotlib inline\n",
    "\n",
    "plt.figure()\n",
    "plt.plot(all_losses)"
   ]
  },
  {
   "cell_type": "markdown",
   "metadata": {},
   "source": [
    "# Evaluating at different \"temperatures\"\n",
    "\n",
    "In the `evaluate` function above, every time a prediction is made the outputs are divided by the \"temperature\" argument passed. Using a higher number makes all actions more equally likely, and thus gives us \"more random\" outputs. Using a lower value (less than 1) makes high probabilities contribute more. As we turn the temperature towards zero we are choosing only the most likely outputs.\n",
    "\n",
    "We can see the effects of this by adjusting the `temperature` argument."
   ]
  },
  {
   "cell_type": "code",
   "execution_count": 35,
   "metadata": {},
   "outputs": [
    {
     "name": "stdout",
     "output_type": "stream",
     "text": [
      "Th\n",
      "\n",
      "  facet normal  0.000000e+000  0.000000e+000  1.600000e+000\n",
      "    outer loop\n",
      "      vertex  2.408127e+001 -5.471272e+001  2.000000e+000\n",
      "      vertex -2.473749e+001 -2.547414e+001  2.000000e+000\n",
      "      v\n"
     ]
    }
   ],
   "source": [
    "print(evaluate('Th', 200, temperature=0.8))"
   ]
  },
  {
   "cell_type": "markdown",
   "metadata": {},
   "source": [
    "Lower temperatures are less varied, choosing only the more probable outputs:"
   ]
  },
  {
   "cell_type": "code",
   "execution_count": 43,
   "metadata": {},
   "outputs": [
    {
     "name": "stdout",
     "output_type": "stream",
     "text": [
      "Th\n",
      "  endfacet\n",
      "  facet normal  0.000000e+000  1.000000e+000\n",
      "    outer loop\n",
      "      vertex  2.300000e+000 -1.374976e+001 -4.567771e+001  2.300000e+000\n",
      "      vertex  2.000000e+000\n",
      "      vertex  1.397032e+001\n",
      "Th\n",
      "\n",
      "\n",
      "\n",
      "  facet normal  0.000000e+000  1.000000e+000\n",
      "    outer loop\n",
      "      vertex  3.992464e+001 -4.684494e+001  2.000000e+000\n",
      "      vertex -1.086656e+001 -1.415170e+001 -2.900000e+001  3.413404e+000  0.00\n",
      "Th\n",
      "  facet normal  0.000000e+000  1.000000e+000\n",
      "    outer loop\n",
      "      vertex  1.636247e+001 -3.479640e+001  2.300000e+000\n",
      "      vertex  2.000000e+000\n",
      "    endloop\n",
      "  endfacet\n",
      "  facet normal  0.000000e+000 \n",
      "Th\n",
      "  facet normal  0.000000e+000  1.000000e+000\n",
      "    outer loop\n",
      "      vertex -4.577779e+001 -9.527747e+001  2.000000e+000\n",
      "      vertex  4.900000e+001 -4.774114e+001  2.000000e+000\n",
      "    endloop\n",
      "  endfacet\n",
      "\n",
      "Th\n",
      "  facet normal  0.000000e+000  1.000000e+000\n",
      "    outer loop\n",
      "      vertex -3.615304e+001 -4.576772e+001  2.000000e+000\n",
      "      vertex -3.417500e+001 -4.771000e+001 -3.110000e+001  2.000000e+000\n",
      "    endl\n"
     ]
    }
   ],
   "source": [
    "print(evaluate('Th', 200, temperature=0.7))\n",
    "\n",
    "print(evaluate('Th', 200, temperature=0.6))\n",
    "\n",
    "print(evaluate('Th', 200, temperature=0.5))\n",
    "\n",
    "print(evaluate('Th', 200, temperature=0.4))\n",
    "\n",
    "print(evaluate('Th', 200, temperature=0.3))"
   ]
  },
  {
   "cell_type": "markdown",
   "metadata": {},
   "source": [
    "Higher temperatures more varied, choosing less probable outputs:"
   ]
  },
  {
   "cell_type": "code",
   "execution_count": 44,
   "metadata": {},
   "outputs": [
    {
     "name": "stdout",
     "output_type": "stream",
     "text": [
      "Th\n",
      "  facet normal -7.0929-1e-00  1.000000e+000\n",
      "    outer loop\n",
      "      vertex  5.750724e+001 -5.454123e+001  4.219059e+001  2.9*3764e+001  1.2697091e+001  0.353700e+001  2.000000e+000\n",
      "      vertex  4.30377\n"
     ]
    }
   ],
   "source": [
    "print(evaluate('Th', 200, temperature=1.4))"
   ]
  },
  {
   "cell_type": "markdown",
   "metadata": {
    "collapsed": true
   },
   "source": [
    "# Exercises\n",
    "\n",
    "* Train with your own dataset, e.g.\n",
    "    * Text from another author\n",
    "    * Blog posts\n",
    "    * Code\n",
    "* Increase number of layers and network size to get better results"
   ]
  },
  {
   "cell_type": "markdown",
   "metadata": {},
   "source": [
    "**Next**: [Generating Names with a Conditional Character-Level RNN](https://github.com/spro/practical-pytorch/blob/master/conditional-char-rnn/conditional-char-rnn.ipynb)"
   ]
  },
  {
   "cell_type": "code",
   "execution_count": 53,
   "metadata": {},
   "outputs": [
    {
     "ename": "SyntaxError",
     "evalue": "invalid syntax (<ipython-input-53-628e49961e06>, line 1)",
     "output_type": "error",
     "traceback": [
      "\u001b[0;36m  File \u001b[0;32m\"<ipython-input-53-628e49961e06>\"\u001b[0;36m, line \u001b[0;32m1\u001b[0m\n\u001b[0;31m    python generate.py shakespeare.pt\u001b[0m\n\u001b[0m                  ^\u001b[0m\n\u001b[0;31mSyntaxError\u001b[0m\u001b[0;31m:\u001b[0m invalid syntax\n"
     ]
    }
   ],
   "source": [
    "python generate.py all_files.pt"
   ]
  },
  {
   "cell_type": "code",
   "execution_count": null,
   "metadata": {},
   "outputs": [],
   "source": []
  }
 ],
 "metadata": {
  "anaconda-cloud": {},
  "kernelspec": {
   "display_name": "Python 3",
   "language": "python",
   "name": "python3"
  },
  "language_info": {
   "codemirror_mode": {
    "name": "ipython",
    "version": 3
   },
   "file_extension": ".py",
   "mimetype": "text/x-python",
   "name": "python",
   "nbconvert_exporter": "python",
   "pygments_lexer": "ipython3",
   "version": "3.7.2"
  }
 },
 "nbformat": 4,
 "nbformat_minor": 1
}
